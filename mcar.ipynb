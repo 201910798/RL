{
 "cells": [
  {
   "cell_type": "code",
   "execution_count": 1,
   "id": "14d6637e",
   "metadata": {},
   "outputs": [],
   "source": [
    "import gym\n",
    "import collections\n",
    "import random\n",
    "\n",
    "import torch\n",
    "import torch.nn as nn\n",
    "import torch.nn.functional as F\n",
    "import torch.optim as optim\n",
    "\n",
    "import matplotlib.pyplot as plt\n",
    "import cv2\n",
    "import numpy as np\n",
    "import os"
   ]
  },
  {
   "cell_type": "code",
   "execution_count": 2,
   "id": "e41ca36c",
   "metadata": {},
   "outputs": [],
   "source": [
    "learning_rate = 0.001  # 0.005 -> 0.001\n",
    "gamma = 0.98\n",
    "buffer_limit = 50000\n",
    "batch_size = 64       # 32 -> 64"
   ]
  },
  {
   "cell_type": "code",
   "execution_count": 9,
   "id": "a642062b",
   "metadata": {},
   "outputs": [],
   "source": [
    "class Qnet(nn.Module):\n",
    "    def __init__(self, input_dim, output_dim):\n",
    "        super(Qnet, self).__init__()\n",
    "        self.fc1 = nn.Linear(input_dim, 128)\n",
    "        self.fc2 = nn.Linear(128, 128)\n",
    "        self.fc3 = nn.Linear(128, output_dim)\n",
    "\n",
    "    def forward(self, x):\n",
    "        x = F.relu(self.fc1(x))\n",
    "        x = F.relu(self.fc2(x))\n",
    "        x = self.fc3(x)\n",
    "        return x\n",
    "\n",
    "    def sample_action(self, obs, epsilon):\n",
    "        out = self.forward(obs)\n",
    "        coin = random.random()\n",
    "        if coin < epsilon:\n",
    "            return random.randint(0,1)\n",
    "        else :\n",
    "            return out.argmax().item()"
   ]
  },
  {
   "cell_type": "code",
   "execution_count": 10,
   "id": "6af76a67",
   "metadata": {
    "scrolled": true
   },
   "outputs": [
    {
     "name": "stderr",
     "output_type": "stream",
     "text": [
      "C:\\Users\\NHJ\\AppData\\Local\\Temp\\ipykernel_15012\\1181052347.py:7: FutureWarning: You are using `torch.load` with `weights_only=False` (the current default value), which uses the default pickle module implicitly. It is possible to construct malicious pickle data which will execute arbitrary code during unpickling (See https://github.com/pytorch/pytorch/blob/main/SECURITY.md#untrusted-models for more details). In a future release, the default value for `weights_only` will be flipped to `True`. This limits the functions that could be executed during unpickling. Arbitrary objects will no longer be allowed to be loaded via this mode unless they are explicitly allowlisted by the user via `torch.serialization.add_safe_globals`. We recommend you start setting `weights_only=True` for any use case where you don't have full control of the loaded file. Please open an issue on GitHub for any issues related to this experimental feature.\n",
      "  q.load_state_dict(torch.load(\"./mountaincar_pth/dqn_mcar370__.pth\"))\n"
     ]
    },
    {
     "name": "stdout",
     "output_type": "stream",
     "text": [
      "Episode 1 finished with total reward: -117.0\n",
      "Episode 2 finished with total reward: -117.0\n",
      "Episode 3 finished with total reward: -118.0\n",
      "Episode 4 finished with total reward: -116.0\n",
      "Episode 5 finished with total reward: -115.0\n"
     ]
    }
   ],
   "source": [
    "env = gym.make(\"MountainCar-v0\", render_mode=\"human\")  # human 렌더링 활성화\n",
    "state_dim = env.observation_space.shape[0]\n",
    "action_dim = env.action_space.n\n",
    "\n",
    "# 네트워크 생성 및 파라미터 로드\n",
    "q = Qnet(state_dim, action_dim)\n",
    "q.load_state_dict(torch.load(\"./mountaincar_pth/dqn_mcar370__.pth\"))\n",
    "q.eval()\n",
    "\n",
    "for episode in range(5):  # 5회 반복 실행\n",
    "    state, _ = env.reset()\n",
    "    done = False\n",
    "    total_reward = 0\n",
    "\n",
    "    while not done:\n",
    "    # 상태를 텐서로 변환\n",
    "        state_tensor = torch.FloatTensor(state).unsqueeze(0)\n",
    "\n",
    "        # 최적 행동 선택\n",
    "        with torch.no_grad():\n",
    "            action = q(state_tensor).argmax().item()\n",
    "\n",
    "        # 환경에서 행동 수행\n",
    "        next_state, reward, done, truncated, info = env.step(action)\n",
    "        total_reward += reward\n",
    "        state = next_state\n",
    "\n",
    "        if done or truncated:\n",
    "            print(f\"Episode {episode + 1} finished with total reward: {total_reward}\")\n",
    "            break\n",
    "\n",
    "env.close()"
   ]
  },
  {
   "cell_type": "code",
   "execution_count": 3,
   "id": "267605cc",
   "metadata": {},
   "outputs": [
    {
     "ename": "NameError",
     "evalue": "name 'Qnet' is not defined",
     "output_type": "error",
     "traceback": [
      "\u001b[1;31m---------------------------------------------------------------------------\u001b[0m",
      "\u001b[1;31mNameError\u001b[0m                                 Traceback (most recent call last)",
      "Cell \u001b[1;32mIn[3], line 3\u001b[0m\n\u001b[0;32m      1\u001b[0m env \u001b[38;5;241m=\u001b[39m gym\u001b[38;5;241m.\u001b[39mmake(\u001b[38;5;124m'\u001b[39m\u001b[38;5;124mMountainCar-v0\u001b[39m\u001b[38;5;124m'\u001b[39m, render_mode\u001b[38;5;241m=\u001b[39m\u001b[38;5;124m'\u001b[39m\u001b[38;5;124mrgb_array\u001b[39m\u001b[38;5;124m'\u001b[39m)\n\u001b[1;32m----> 3\u001b[0m q \u001b[38;5;241m=\u001b[39m \u001b[43mQnet\u001b[49m(state_dim, action_dim)\n\u001b[0;32m      4\u001b[0m q\u001b[38;5;241m.\u001b[39mload_state_dict(torch\u001b[38;5;241m.\u001b[39mload(\u001b[38;5;124m\"\u001b[39m\u001b[38;5;124m./mountaincar_pth/dqn_mcar370__.pth\u001b[39m\u001b[38;5;124m\"\u001b[39m))\n\u001b[0;32m      5\u001b[0m s, _ \u001b[38;5;241m=\u001b[39m env\u001b[38;5;241m.\u001b[39mreset(seed\u001b[38;5;241m=\u001b[39m\u001b[38;5;241m32\u001b[39m)\n",
      "\u001b[1;31mNameError\u001b[0m: name 'Qnet' is not defined"
     ]
    }
   ],
   "source": [
    "env = gym.make('MountainCar-v0', render_mode='rgb_array')\n",
    "\n",
    "q = Qnet(state_dim, action_dim)\n",
    "q.load_state_dict(torch.load(\"./mountaincar_pth/dqn_mcar370__.pth\"))\n",
    "s, _ = env.reset(seed=32)\n",
    "done = False\n",
    "total_reward = 0\n",
    "\n",
    "output_folder = \"./videos\"  # 저장할 폴더 경로\n",
    "os.makedirs(output_folder, exist_ok=True)  # 폴더가 없으면 생성\n",
    "video_filename = os.path.join(output_folder, \"dqn_mountainCar.avi\")  # 파일 경로 설정\n",
    "\n",
    "frame_width, frame_height = env.render().shape[1], env.render().shape[0]\n",
    "fourcc = cv2.VideoWriter_fourcc(*'XVID')  # 코덱 설정 (XVID, MP4V 등)\n",
    "fps = 30  # 초당 프레임 수\n",
    "video_writer = cv2.VideoWriter(video_filename, fourcc, fps, (frame_width, frame_height))\n",
    "\n",
    "# 에피소드 실행\n",
    "while not done:\n",
    "    a = q.sample_action(torch.from_numpy(s).float(), epsilon=0.0)\n",
    "    s, r, done, truncated, info = env.step(a)\n",
    "    total_reward += r\n",
    "\n",
    "    # 현재 프레임을 저장\n",
    "    frame = env.render()\n",
    "    video_frame = cv2.cvtColor(frame, cv2.COLOR_RGB2BGR)  # OpenCV는 BGR 포맷 사용\n",
    "    video_writer.write(video_frame)\n",
    "\n",
    "    if done or truncated:\n",
    "        break\n",
    "\n",
    "# 리소스 정리\n",
    "env.close()\n",
    "video_writer.release()\n",
    "print(\"Total reward achieved: {:.1f}\".format(total_reward))\n",
    "print(f\"Video saved as {video_filename}\")"
   ]
  },
  {
   "cell_type": "markdown",
   "id": "898c4032",
   "metadata": {},
   "source": [
    "## REINFORCE"
   ]
  },
  {
   "cell_type": "code",
   "execution_count": 4,
   "id": "e8ded2fc",
   "metadata": {},
   "outputs": [],
   "source": [
    "#Hyperparameters\n",
    "learning_rate = 0.0002\n",
    "gamma         = 0.98"
   ]
  },
  {
   "cell_type": "code",
   "execution_count": 5,
   "id": "c3403c1d",
   "metadata": {},
   "outputs": [],
   "source": [
    "class Policy(nn.Module):\n",
    "    def __init__(self, input_dim, output_dim):\n",
    "        super(Policy, self).__init__()\n",
    "        self.data = []\n",
    "\n",
    "        self.fc1 = nn.Linear(input_dim, 128)\n",
    "        self.fc2 = nn.Linear(128, output_dim)\n",
    "        self.optimizer = optim.Adam(self.parameters(), lr=learning_rate)\n",
    "\n",
    "    def forward(self, x):\n",
    "        x = F.relu(self.fc1(x))\n",
    "        x = F.softmax(self.fc2(x), dim=0)\n",
    "        return x\n",
    "\n",
    "    def put_data(self, item):\n",
    "        self.data.append(item)\n",
    "\n",
    "    def train_net(self):\n",
    "        R = 0\n",
    "        self.optimizer.zero_grad()\n",
    "        for r, prob in self.data[::-1]:\n",
    "            R = r + gamma * R\n",
    "            loss = -torch.log(prob) * R\n",
    "            loss.backward()\n",
    "        self.optimizer.step()\n",
    "        self.data = []"
   ]
  },
  {
   "cell_type": "code",
   "execution_count": 10,
   "id": "eb08a0ed",
   "metadata": {},
   "outputs": [
    {
     "name": "stderr",
     "output_type": "stream",
     "text": [
      "C:\\Users\\NHJ\\AppData\\Local\\Temp\\ipykernel_22004\\2248654853.py:7: FutureWarning: You are using `torch.load` with `weights_only=False` (the current default value), which uses the default pickle module implicitly. It is possible to construct malicious pickle data which will execute arbitrary code during unpickling (See https://github.com/pytorch/pytorch/blob/main/SECURITY.md#untrusted-models for more details). In a future release, the default value for `weights_only` will be flipped to `True`. This limits the functions that could be executed during unpickling. Arbitrary objects will no longer be allowed to be loaded via this mode unless they are explicitly allowlisted by the user via `torch.serialization.add_safe_globals`. We recommend you start setting `weights_only=True` for any use case where you don't have full control of the loaded file. Please open an issue on GitHub for any issues related to this experimental feature.\n",
      "  pi.load_state_dict(torch.load(\"./mountaincar_pth/reinforce_mcar11710.pth\"))\n"
     ]
    },
    {
     "name": "stdout",
     "output_type": "stream",
     "text": [
      "Episode 1 finished with total reward: -200.0\n",
      "Episode 2 finished with total reward: -200.0\n",
      "Episode 3 finished with total reward: -200.0\n",
      "Episode 4 finished with total reward: -200.0\n",
      "Episode 5 finished with total reward: -200.0\n"
     ]
    }
   ],
   "source": [
    "env = gym.make(\"MountainCar-v0\", render_mode=\"human\")  # human 렌더링 활성화\n",
    "state_dim = env.observation_space.shape[0]\n",
    "action_dim = env.action_space.n\n",
    "\n",
    "# 네트워크 생성 및 파라미터 로드\n",
    "pi = Policy(state_dim, action_dim)\n",
    "pi.load_state_dict(torch.load(\"./mountaincar_pth/reinforce_mcar11710.pth\")) \n",
    "\n",
    "\n",
    "for episode in range(5):  # 5회 반복 실행\n",
    "    s, _ = env.reset()\n",
    "    done = False\n",
    "    total_reward = 0\n",
    "\n",
    "    while not done:\n",
    "        prob = pi(torch.from_numpy(s).float())\n",
    "        a = torch.argmax(prob).item()  \n",
    "        s, r, done, truncated, info = env.step(a)\n",
    "        total_reward += r\n",
    "\n",
    "        if done or truncated:\n",
    "            print(f\"Episode {episode + 1} finished with total reward: {total_reward}\")\n",
    "            break\n",
    "\n",
    "env.close()"
   ]
  }
 ],
 "metadata": {
  "kernelspec": {
   "display_name": "gym",
   "language": "python",
   "name": "gym"
  },
  "language_info": {
   "codemirror_mode": {
    "name": "ipython",
    "version": 3
   },
   "file_extension": ".py",
   "mimetype": "text/x-python",
   "name": "python",
   "nbconvert_exporter": "python",
   "pygments_lexer": "ipython3",
   "version": "3.10.15"
  }
 },
 "nbformat": 4,
 "nbformat_minor": 5
}

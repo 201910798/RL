{
 "cells": [
  {
   "cell_type": "code",
   "execution_count": 1,
   "metadata": {
    "executionInfo": {
     "elapsed": 307,
     "status": "ok",
     "timestamp": 1732444705812,
     "user": {
      "displayName": "노희재",
      "userId": "17572658395770624917"
     },
     "user_tz": -540
    },
    "id": "V_GqWJx6rme9"
   },
   "outputs": [],
   "source": [
    "import gym\n",
    "import collections\n",
    "import random\n",
    "\n",
    "import torch\n",
    "import torch.nn as nn\n",
    "import torch.nn.functional as F\n",
    "import torch.optim as optim\n",
    "\n",
    "import matplotlib.pyplot as plt\n",
    "import cv2\n",
    "import numpy as np\n",
    "import os"
   ]
  },
  {
   "cell_type": "markdown",
   "metadata": {
    "id": "ylx5tHJjsIEB"
   },
   "source": [
    "# **DQN 실행**"
   ]
  },
  {
   "cell_type": "code",
   "execution_count": 2,
   "metadata": {
    "executionInfo": {
     "elapsed": 309,
     "status": "ok",
     "timestamp": 1732444708419,
     "user": {
      "displayName": "노희재",
      "userId": "17572658395770624917"
     },
     "user_tz": -540
    },
    "id": "Er_owZ-hrxqD"
   },
   "outputs": [],
   "source": [
    "class Qnet(nn.Module):\n",
    "    def __init__(self):\n",
    "        super(Qnet, self).__init__()\n",
    "        self.fc1 = nn.Linear(4, 128)\n",
    "        self.fc2 = nn.Linear(128, 128)\n",
    "        self.fc3 = nn.Linear(128, 2)\n",
    "\n",
    "    def forward(self, x):\n",
    "        x = F.relu(self.fc1(x))\n",
    "        x = F.relu(self.fc2(x))\n",
    "        x = self.fc3(x)\n",
    "        return x\n",
    "\n",
    "    def sample_action(self, obs, epsilon):\n",
    "        out = self.forward(obs)\n",
    "        coin = random.random()\n",
    "        if coin < epsilon:\n",
    "            return random.randint(0,1)\n",
    "        else :\n",
    "            return out.argmax().item()"
   ]
  },
  {
   "cell_type": "code",
   "execution_count": 4,
   "metadata": {
    "colab": {
     "base_uri": "https://localhost:8080/"
    },
    "executionInfo": {
     "elapsed": 12727,
     "status": "ok",
     "timestamp": 1732444753944,
     "user": {
      "displayName": "노희재",
      "userId": "17572658395770624917"
     },
     "user_tz": -540
    },
    "id": "G-Ur1fCRr-P-",
    "outputId": "83797070-3c2e-4780-92c1-559d78db0a98",
    "scrolled": true
   },
   "outputs": [
    {
     "name": "stderr",
     "output_type": "stream",
     "text": [
      "C:\\Users\\NHJ\\AppData\\Local\\Temp\\ipykernel_2948\\3187549233.py:3: FutureWarning: You are using `torch.load` with `weights_only=False` (the current default value), which uses the default pickle module implicitly. It is possible to construct malicious pickle data which will execute arbitrary code during unpickling (See https://github.com/pytorch/pytorch/blob/main/SECURITY.md#untrusted-models for more details). In a future release, the default value for `weights_only` will be flipped to `True`. This limits the functions that could be executed during unpickling. Arbitrary objects will no longer be allowed to be loaded via this mode unless they are explicitly allowlisted by the user via `torch.serialization.add_safe_globals`. We recommend you start setting `weights_only=True` for any use case where you don't have full control of the loaded file. Please open an issue on GitHub for any issues related to this experimental feature.\n",
      "  q.load_state_dict(torch.load(\"./cartpole_pth/dqn_cartpole300_.pth\"))\n"
     ]
    },
    {
     "name": "stdout",
     "output_type": "stream",
     "text": [
      "Model loaded from dqn_cartpole.pth\n",
      "Total reward achieved: 452.0\n"
     ]
    }
   ],
   "source": [
    "env = gym.make('CartPole-v1', max_episode_steps=1000, render_mode='human')\n",
    "q = Qnet()\n",
    "q.load_state_dict(torch.load(\"./cartpole_pth/dqn_cartpole300_.pth\"))\n",
    "print(\"Model loaded from dqn_cartpole.pth\")\n",
    "\n",
    "s, _ = env.reset()\n",
    "done = False\n",
    "total_reward = 0\n",
    "\n",
    "while not done:\n",
    "    a = q.sample_action(torch.from_numpy(s).float(), epsilon=0.0)\n",
    "    s, r, done, truncated, info = env.step(a)\n",
    "    total_reward += r\n",
    "    if done or truncated:\n",
    "        break\n",
    "\n",
    "print(\"Total reward achieved: {:.1f}\".format(total_reward))\n",
    "env.close()"
   ]
  },
  {
   "cell_type": "code",
   "execution_count": 42,
   "metadata": {},
   "outputs": [
    {
     "name": "stderr",
     "output_type": "stream",
     "text": [
      "C:\\Users\\NHJ\\AppData\\Local\\Temp\\ipykernel_18848\\3561125716.py:4: FutureWarning: You are using `torch.load` with `weights_only=False` (the current default value), which uses the default pickle module implicitly. It is possible to construct malicious pickle data which will execute arbitrary code during unpickling (See https://github.com/pytorch/pytorch/blob/main/SECURITY.md#untrusted-models for more details). In a future release, the default value for `weights_only` will be flipped to `True`. This limits the functions that could be executed during unpickling. Arbitrary objects will no longer be allowed to be loaded via this mode unless they are explicitly allowlisted by the user via `torch.serialization.add_safe_globals`. We recommend you start setting `weights_only=True` for any use case where you don't have full control of the loaded file. Please open an issue on GitHub for any issues related to this experimental feature.\n",
      "  q.load_state_dict(torch.load(\"./cartpole_pth/dqn_cartpole500_.pth\"))\n"
     ]
    },
    {
     "name": "stdout",
     "output_type": "stream",
     "text": [
      "Model loaded from dqn_cartpole500_.pth\n",
      "Total reward achieved: 1000.0\n",
      "Video saved as ./videos\\dqn_cartpole.avi\n"
     ]
    }
   ],
   "source": [
    "env = gym.make('CartPole-v1', max_episode_steps=1000, render_mode='rgb_array')\n",
    "\n",
    "q = Qnet()\n",
    "q.load_state_dict(torch.load(\"./cartpole_pth/dqn_cartpole500_.pth\"))\n",
    "print(\"Model loaded from dqn_cartpole500_.pth\")\n",
    "s, _ = env.reset(seed=32)\n",
    "done = False\n",
    "total_reward = 0\n",
    "\n",
    "output_folder = \"./videos\"  # 저장할 폴더 경로\n",
    "os.makedirs(output_folder, exist_ok=True)  # 폴더가 없으면 생성\n",
    "video_filename = os.path.join(output_folder, \"dqn_cartpole.avi\")  # 파일 경로 설정\n",
    "\n",
    "frame_width, frame_height = env.render().shape[1], env.render().shape[0]\n",
    "fourcc = cv2.VideoWriter_fourcc(*'XVID')  # 코덱 설정 (XVID, MP4V 등)\n",
    "fps = 30  # 초당 프레임 수\n",
    "video_writer = cv2.VideoWriter(video_filename, fourcc, fps, (frame_width, frame_height))\n",
    "\n",
    "# 에피소드 실행\n",
    "while not done:\n",
    "    a = q.sample_action(torch.from_numpy(s).float(), epsilon=0.0)\n",
    "    s, r, done, truncated, info = env.step(a)\n",
    "    total_reward += r\n",
    "\n",
    "    # 현재 프레임을 저장\n",
    "    frame = env.render()\n",
    "    video_frame = cv2.cvtColor(frame, cv2.COLOR_RGB2BGR)  # OpenCV는 BGR 포맷 사용\n",
    "    video_writer.write(video_frame)\n",
    "\n",
    "    if done or truncated:\n",
    "        break\n",
    "\n",
    "# 리소스 정리\n",
    "env.close()\n",
    "video_writer.release()\n",
    "print(\"Total reward achieved: {:.1f}\".format(total_reward))\n",
    "print(f\"Video saved as {video_filename}\")"
   ]
  },
  {
   "cell_type": "markdown",
   "metadata": {},
   "source": [
    "## REINFORCE 실행"
   ]
  },
  {
   "cell_type": "code",
   "execution_count": 24,
   "metadata": {},
   "outputs": [],
   "source": [
    "#Hyperparameters\n",
    "learning_rate = 0.0002\n",
    "gamma         = 0.98"
   ]
  },
  {
   "cell_type": "code",
   "execution_count": 25,
   "metadata": {},
   "outputs": [],
   "source": [
    "class Policy(nn.Module):\n",
    "    def __init__(self):\n",
    "        super(Policy, self).__init__()\n",
    "        self.data = []\n",
    "\n",
    "        self.fc1 = nn.Linear(4, 128)\n",
    "        self.fc2 = nn.Linear(128, 2)\n",
    "        self.optimizer = optim.Adam(self.parameters(), lr=learning_rate)\n",
    "\n",
    "    def forward(self, x):\n",
    "        x = F.relu(self.fc1(x))\n",
    "        x = F.softmax(self.fc2(x), dim=0)\n",
    "        return x\n",
    "\n",
    "    def put_data(self, item):\n",
    "        self.data.append(item)\n",
    "\n",
    "    def train_net(self):\n",
    "        R = 0\n",
    "        self.optimizer.zero_grad()\n",
    "        for r, prob in self.data[::-1]:\n",
    "            R = r + gamma * R\n",
    "            loss = -torch.log(prob) * R\n",
    "            loss.backward()\n",
    "        self.optimizer.step()\n",
    "        self.data = []"
   ]
  },
  {
   "cell_type": "code",
   "execution_count": 40,
   "metadata": {},
   "outputs": [
    {
     "name": "stderr",
     "output_type": "stream",
     "text": [
      "C:\\Users\\NHJ\\AppData\\Local\\Temp\\ipykernel_18848\\563797141.py:3: FutureWarning: You are using `torch.load` with `weights_only=False` (the current default value), which uses the default pickle module implicitly. It is possible to construct malicious pickle data which will execute arbitrary code during unpickling (See https://github.com/pytorch/pytorch/blob/main/SECURITY.md#untrusted-models for more details). In a future release, the default value for `weights_only` will be flipped to `True`. This limits the functions that could be executed during unpickling. Arbitrary objects will no longer be allowed to be loaded via this mode unless they are explicitly allowlisted by the user via `torch.serialization.add_safe_globals`. We recommend you start setting `weights_only=True` for any use case where you don't have full control of the loaded file. Please open an issue on GitHub for any issues related to this experimental feature.\n",
      "  pi.load_state_dict(torch.load(\"./cartpole_pth/reinforce_cartpole500_.pth\"))\n"
     ]
    },
    {
     "name": "stdout",
     "output_type": "stream",
     "text": [
      "Model loaded from reinforce_cartpole.pth\n",
      "Total reward achieved: 1000.0\n"
     ]
    }
   ],
   "source": [
    "env = gym.make('CartPole-v1', max_episode_steps=1000, render_mode='human')\n",
    "pi = Policy()\n",
    "pi.load_state_dict(torch.load(\"./cartpole_pth/reinforce_cartpole500_.pth\")) \n",
    "print(\"Model loaded from reinforce_cartpole.pth\")\n",
    "\n",
    "s, _ = env.reset()\n",
    "done = False\n",
    "total_reward = 0\n",
    "\n",
    "while not done:\n",
    "    prob = pi(torch.from_numpy(s).float())\n",
    "    a = torch.argmax(prob).item()  \n",
    "    s, r, done, truncated, info = env.step(a)\n",
    "    total_reward += r\n",
    "\n",
    "    if done or truncated:\n",
    "        break\n",
    "\n",
    "print(\"Total reward achieved: {:.1f}\".format(total_reward))\n",
    "env.close()"
   ]
  },
  {
   "cell_type": "code",
   "execution_count": 41,
   "metadata": {},
   "outputs": [
    {
     "name": "stdout",
     "output_type": "stream",
     "text": [
      "Model loaded from reinforce_cartpole.pth\n"
     ]
    },
    {
     "name": "stderr",
     "output_type": "stream",
     "text": [
      "C:\\Users\\NHJ\\AppData\\Local\\Temp\\ipykernel_18848\\1434995432.py:4: FutureWarning: You are using `torch.load` with `weights_only=False` (the current default value), which uses the default pickle module implicitly. It is possible to construct malicious pickle data which will execute arbitrary code during unpickling (See https://github.com/pytorch/pytorch/blob/main/SECURITY.md#untrusted-models for more details). In a future release, the default value for `weights_only` will be flipped to `True`. This limits the functions that could be executed during unpickling. Arbitrary objects will no longer be allowed to be loaded via this mode unless they are explicitly allowlisted by the user via `torch.serialization.add_safe_globals`. We recommend you start setting `weights_only=True` for any use case where you don't have full control of the loaded file. Please open an issue on GitHub for any issues related to this experimental feature.\n",
      "  pi.load_state_dict(torch.load(\"./cartpole_pth/reinforce_cartpole500_.pth\"))\n"
     ]
    },
    {
     "name": "stdout",
     "output_type": "stream",
     "text": [
      "Total reward achieved: 1000.0\n",
      "Video saved as ./videos\\reinforce_cartpole.avi\n"
     ]
    }
   ],
   "source": [
    "env = gym.make('CartPole-v1', max_episode_steps=1000, render_mode='rgb_array')\n",
    "\n",
    "pi = Policy()\n",
    "pi.load_state_dict(torch.load(\"./cartpole_pth/reinforce_cartpole500_.pth\")) \n",
    "print(\"Model loaded from reinforce_cartpole.pth\")\n",
    "\n",
    "s, _ = env.reset(seed=32)\n",
    "done = False\n",
    "total_reward = 0\n",
    "\n",
    "output_folder = \"./videos\"  # 저장할 폴더 경로\n",
    "os.makedirs(output_folder, exist_ok=True)  # 폴더가 없으면 생성\n",
    "video_filename = os.path.join(output_folder, \"reinforce_cartpole.avi\")  # 파일 경로 설정\n",
    "\n",
    "frame_width, frame_height = env.render().shape[1], env.render().shape[0]\n",
    "fourcc = cv2.VideoWriter_fourcc(*'XVID')  # 코덱 설정 (XVID, MP4V 등)\n",
    "fps = 30  # 초당 프레임 수\n",
    "video_writer = cv2.VideoWriter(video_filename, fourcc, fps, (frame_width, frame_height))\n",
    "\n",
    "# 에피소드 실행\n",
    "while not done:\n",
    "    prob = pi(torch.from_numpy(s).float())\n",
    "    a = torch.argmax(prob).item()  \n",
    "    s, r, done, truncated, info = env.step(a)\n",
    "    total_reward += r\n",
    "\n",
    "    # 현재 프레임을 저장\n",
    "    frame = env.render()\n",
    "    video_frame = cv2.cvtColor(frame, cv2.COLOR_RGB2BGR)  # OpenCV는 BGR 포맷 사용\n",
    "    video_writer.write(video_frame)\n",
    "\n",
    "    if done or truncated:\n",
    "        break\n",
    "\n",
    "# 리소스 정리\n",
    "env.close()\n",
    "video_writer.release()\n",
    "print(\"Total reward achieved: {:.1f}\".format(total_reward))\n",
    "print(f\"Video saved as {video_filename}\")"
   ]
  },
  {
   "cell_type": "markdown",
   "metadata": {},
   "source": [
    "## PPO 실행"
   ]
  },
  {
   "cell_type": "code",
   "execution_count": 43,
   "metadata": {},
   "outputs": [],
   "source": [
    "#Hyperparameters\n",
    "learning_rate = 0.0005\n",
    "gamma         = 0.98\n",
    "lmbda         = 0.95\n",
    "eps_clip      = 0.1\n",
    "K_epoch       = 3\n",
    "T_horizon     = 20"
   ]
  },
  {
   "cell_type": "code",
   "execution_count": 44,
   "metadata": {},
   "outputs": [],
   "source": [
    "class PPO(nn.Module):\n",
    "    def __init__(self):\n",
    "        super(PPO, self).__init__()\n",
    "        self.data = []\n",
    "\n",
    "        self.fc1   = nn.Linear(4,256)\n",
    "        self.fc_pi = nn.Linear(256,2)\n",
    "        self.fc_v  = nn.Linear(256,1)\n",
    "        self.optimizer = optim.Adam(self.parameters(), lr=learning_rate)\n",
    "\n",
    "    def pi(self, x, softmax_dim = 0):\n",
    "        x = F.relu(self.fc1(x))\n",
    "        x = self.fc_pi(x)\n",
    "        prob = F.softmax(x, dim=softmax_dim)\n",
    "        return prob\n",
    "\n",
    "    def v(self, x):\n",
    "        x = F.relu(self.fc1(x))\n",
    "        v = self.fc_v(x)\n",
    "        return v\n",
    "\n",
    "    def put_data(self, transition):\n",
    "        self.data.append(transition)\n",
    "\n",
    "    def make_batch(self):\n",
    "        s_lst, a_lst, r_lst, s_prime_lst, prob_a_lst, done_lst = [], [], [], [], [], []\n",
    "        for transition in self.data:\n",
    "            s, a, r, s_prime, prob_a, done = transition\n",
    "\n",
    "            s_lst.append(s)\n",
    "            a_lst.append([a])\n",
    "            r_lst.append([r])\n",
    "            s_prime_lst.append(s_prime)\n",
    "            prob_a_lst.append([prob_a])\n",
    "            done_mask = 0 if done else 1\n",
    "            done_lst.append([done_mask])\n",
    "\n",
    "        s,a,r,s_prime,done_mask, prob_a = torch.tensor(s_lst, dtype=torch.float), torch.tensor(a_lst), \\\n",
    "                                          torch.tensor(r_lst), torch.tensor(s_prime_lst, dtype=torch.float), \\\n",
    "                                          torch.tensor(done_lst, dtype=torch.float), torch.tensor(prob_a_lst)\n",
    "        self.data = []\n",
    "        return s, a, r, s_prime, done_mask, prob_a\n",
    "\n",
    "    def train_net(self):\n",
    "        s, a, r, s_prime, done_mask, prob_a = self.make_batch()\n",
    "\n",
    "        for i in range(K_epoch):\n",
    "            td_target = r + gamma * self.v(s_prime) * done_mask\n",
    "            delta = td_target - self.v(s)\n",
    "            delta = delta.detach().numpy()\n",
    "\n",
    "            advantage_lst = []\n",
    "            advantage = 0.0\n",
    "            for delta_t in delta[::-1]:\n",
    "                advantage = gamma * lmbda * advantage + delta_t[0]\n",
    "                advantage_lst.append([advantage])\n",
    "            advantage_lst.reverse()\n",
    "            advantage = torch.tensor(advantage_lst, dtype=torch.float)\n",
    "\n",
    "            pi = self.pi(s, softmax_dim=1)\n",
    "            pi_a = pi.gather(1,a)\n",
    "            ratio = torch.exp(torch.log(pi_a) - torch.log(prob_a))  # a/b == exp(log(a)-log(b))\n",
    "\n",
    "            surr1 = ratio * advantage\n",
    "            surr2 = torch.clamp(ratio, 1-eps_clip, 1+eps_clip) * advantage\n",
    "            loss = -torch.min(surr1, surr2) + F.smooth_l1_loss(self.v(s) , td_target.detach())\n",
    "\n",
    "            self.optimizer.zero_grad()\n",
    "            loss.mean().backward()\n",
    "            self.optimizer.step()"
   ]
  },
  {
   "cell_type": "code",
   "execution_count": 46,
   "metadata": {
    "scrolled": true
   },
   "outputs": [
    {
     "name": "stderr",
     "output_type": "stream",
     "text": [
      "C:\\Users\\NHJ\\AppData\\Local\\Temp\\ipykernel_18848\\3655206365.py:3: FutureWarning: You are using `torch.load` with `weights_only=False` (the current default value), which uses the default pickle module implicitly. It is possible to construct malicious pickle data which will execute arbitrary code during unpickling (See https://github.com/pytorch/pytorch/blob/main/SECURITY.md#untrusted-models for more details). In a future release, the default value for `weights_only` will be flipped to `True`. This limits the functions that could be executed during unpickling. Arbitrary objects will no longer be allowed to be loaded via this mode unless they are explicitly allowlisted by the user via `torch.serialization.add_safe_globals`. We recommend you start setting `weights_only=True` for any use case where you don't have full control of the loaded file. Please open an issue on GitHub for any issues related to this experimental feature.\n",
      "  ppo.load_state_dict(torch.load(\"./cartpole_pth/ppo_cartpole5001_.pth\"))  # 모델 불러오기\n"
     ]
    },
    {
     "name": "stdout",
     "output_type": "stream",
     "text": [
      "Model loaded from ppo_cartpole.pth\n",
      "Total reward achieved: 1000.0\n"
     ]
    }
   ],
   "source": [
    "env = gym.make('CartPole-v1', max_episode_steps=1000, render_mode='human')\n",
    "ppo = PPO()\n",
    "ppo.load_state_dict(torch.load(\"./cartpole_pth/ppo_cartpole5002_.pth\"))  # 모델 불러오기\n",
    "print(\"Model loaded from ppo_cartpole.pth\")\n",
    "\n",
    "s, _ = env.reset()\n",
    "done = False\n",
    "total_reward = 0\n",
    "\n",
    "while not done:\n",
    "    prob = ppo.pi(torch.from_numpy(s).float())\n",
    "    a = torch.argmax(prob).item()  # 가장 높은 확률의 행동 선택\n",
    "    s, r, done, truncated, info = env.step(a)\n",
    "    total_reward += r\n",
    "\n",
    "    if done or truncated:\n",
    "        break\n",
    "\n",
    "print(f\"Total reward achieved: {total_reward}\")\n",
    "env.close()"
   ]
  },
  {
   "cell_type": "code",
   "execution_count": 47,
   "metadata": {},
   "outputs": [
    {
     "name": "stderr",
     "output_type": "stream",
     "text": [
      "C:\\Users\\NHJ\\AppData\\Local\\Temp\\ipykernel_18848\\2249630199.py:4: FutureWarning: You are using `torch.load` with `weights_only=False` (the current default value), which uses the default pickle module implicitly. It is possible to construct malicious pickle data which will execute arbitrary code during unpickling (See https://github.com/pytorch/pytorch/blob/main/SECURITY.md#untrusted-models for more details). In a future release, the default value for `weights_only` will be flipped to `True`. This limits the functions that could be executed during unpickling. Arbitrary objects will no longer be allowed to be loaded via this mode unless they are explicitly allowlisted by the user via `torch.serialization.add_safe_globals`. We recommend you start setting `weights_only=True` for any use case where you don't have full control of the loaded file. Please open an issue on GitHub for any issues related to this experimental feature.\n",
      "  ppo.load_state_dict(torch.load(\"./cartpole_pth/ppo_cartpole5002_.pth\"))  # 모델 불러오기\n"
     ]
    },
    {
     "name": "stdout",
     "output_type": "stream",
     "text": [
      "Model loaded from ppo_cartpole.pth\n",
      "Total reward achieved: 1000.0\n",
      "Video saved as ./videos\\ppo_cartpole.avi\n"
     ]
    }
   ],
   "source": [
    "env = gym.make('CartPole-v1', max_episode_steps=1000, render_mode='rgb_array')\n",
    "\n",
    "ppo = PPO()\n",
    "ppo.load_state_dict(torch.load(\"./cartpole_pth/ppo_cartpole5002_.pth\"))  # 모델 불러오기\n",
    "print(\"Model loaded from ppo_cartpole.pth\")\n",
    "\n",
    "s, _ = env.reset(seed=32)\n",
    "done = False\n",
    "total_reward = 0\n",
    "\n",
    "output_folder = \"./videos\"  # 저장할 폴더 경로\n",
    "os.makedirs(output_folder, exist_ok=True)  # 폴더가 없으면 생성\n",
    "video_filename = os.path.join(output_folder, \"ppo_cartpole.avi\")  # 파일 경로 설정\n",
    "\n",
    "frame_width, frame_height = env.render().shape[1], env.render().shape[0]\n",
    "fourcc = cv2.VideoWriter_fourcc(*'XVID')  # 코덱 설정 (XVID, MP4V 등)\n",
    "fps = 30  # 초당 프레임 수\n",
    "video_writer = cv2.VideoWriter(video_filename, fourcc, fps, (frame_width, frame_height))\n",
    "\n",
    "# 에피소드 실행\n",
    "while not done:\n",
    "    prob = ppo.pi(torch.from_numpy(s).float())\n",
    "    a = torch.argmax(prob).item()  # 가장 높은 확률의 행동 선택\n",
    "    s, r, done, truncated, info = env.step(a)\n",
    "    total_reward += r\n",
    "\n",
    "    # 현재 프레임을 저장\n",
    "    frame = env.render()\n",
    "    video_frame = cv2.cvtColor(frame, cv2.COLOR_RGB2BGR)  # OpenCV는 BGR 포맷 사용\n",
    "    video_writer.write(video_frame)\n",
    "\n",
    "    if done or truncated:\n",
    "        break\n",
    "\n",
    "# 리소스 정리\n",
    "env.close()\n",
    "video_writer.release()\n",
    "print(\"Total reward achieved: {:.1f}\".format(total_reward))\n",
    "print(f\"Video saved as {video_filename}\")"
   ]
  },
  {
   "cell_type": "markdown",
   "metadata": {},
   "source": [
    "## Actor_Critirc 모델 실행"
   ]
  },
  {
   "cell_type": "code",
   "execution_count": 48,
   "metadata": {},
   "outputs": [],
   "source": [
    "class ActorCritic(nn.Module):\n",
    "    def __init__(self):\n",
    "        super(ActorCritic, self).__init__()\n",
    "        self.data = []\n",
    "\n",
    "        self.fc1 = nn.Linear(4,256)\n",
    "        self.fc_pi = nn.Linear(256,2)\n",
    "        self.fc_v = nn.Linear(256,1)\n",
    "        self.optimizer = optim.Adam(self.parameters(), lr=learning_rate)\n",
    "\n",
    "    def pi(self, x, softmax_dim = 0):\n",
    "        x = F.relu(self.fc1(x))\n",
    "        x = self.fc_pi(x)\n",
    "        prob = F.softmax(x, dim=softmax_dim)\n",
    "        return prob\n",
    "\n",
    "    def v(self, x):\n",
    "        x = F.relu(self.fc1(x))\n",
    "        v = self.fc_v(x)\n",
    "        return v\n",
    "\n",
    "    def put_data(self, transition):\n",
    "        self.data.append(transition)\n",
    "\n",
    "    def make_batch(self):\n",
    "        s_lst, a_lst, r_lst, s_prime_lst, done_lst = [], [], [], [], []\n",
    "        for transition in self.data:\n",
    "            s,a,r,s_prime,done = transition\n",
    "            s_lst.append(s)\n",
    "            a_lst.append([a])\n",
    "            r_lst.append([r/100.0])\n",
    "            s_prime_lst.append(s_prime)\n",
    "            done_mask = 0.0 if done else 1.0\n",
    "            done_lst.append([done_mask])\n",
    "\n",
    "        s_batch, a_batch, r_batch, s_prime_batch, done_batch = torch.tensor(s_lst, dtype=torch.float), torch.tensor(a_lst), \\\n",
    "                                                               torch.tensor(r_lst, dtype=torch.float), torch.tensor(s_prime_lst, dtype=torch.float), \\\n",
    "                                                               torch.tensor(done_lst, dtype=torch.float)\n",
    "        self.data = []\n",
    "        return s_batch, a_batch, r_batch, s_prime_batch, done_batch\n",
    "\n",
    "    def train_net(self):\n",
    "        s, a, r, s_prime, done = self.make_batch()\n",
    "        td_target = r + gamma * self.v(s_prime) * done\n",
    "        delta = td_target - self.v(s)\n",
    "\n",
    "        pi = self.pi(s, softmax_dim=1)\n",
    "        pi_a = pi.gather(1,a)\n",
    "        loss = -torch.log(pi_a) * delta.detach() + F.smooth_l1_loss(self.v(s), td_target.detach())\n",
    "\n",
    "        self.optimizer.zero_grad()\n",
    "        loss.mean().backward()\n",
    "        self.optimizer.step()"
   ]
  },
  {
   "cell_type": "code",
   "execution_count": 49,
   "metadata": {},
   "outputs": [
    {
     "name": "stderr",
     "output_type": "stream",
     "text": [
      "C:\\Users\\NHJ\\AppData\\Local\\Temp\\ipykernel_18848\\3021863465.py:3: FutureWarning: You are using `torch.load` with `weights_only=False` (the current default value), which uses the default pickle module implicitly. It is possible to construct malicious pickle data which will execute arbitrary code during unpickling (See https://github.com/pytorch/pytorch/blob/main/SECURITY.md#untrusted-models for more details). In a future release, the default value for `weights_only` will be flipped to `True`. This limits the functions that could be executed during unpickling. Arbitrary objects will no longer be allowed to be loaded via this mode unless they are explicitly allowlisted by the user via `torch.serialization.add_safe_globals`. We recommend you start setting `weights_only=True` for any use case where you don't have full control of the loaded file. Please open an issue on GitHub for any issues related to this experimental feature.\n",
      "  model.load_state_dict(torch.load(\"./cartpole_pth/actor_cartpole.pth\"))  # 저장된 모델 불러오기\n"
     ]
    },
    {
     "name": "stdout",
     "output_type": "stream",
     "text": [
      "Model loaded from actor_critic_cartpole.pth\n",
      "Total reward achieved: 1000.0\n"
     ]
    }
   ],
   "source": [
    "env = gym.make('CartPole-v1', max_episode_steps=1000, render_mode='human')\n",
    "model = ActorCritic()\n",
    "model.load_state_dict(torch.load(\"./cartpole_pth/actor_cartpole.pth\"))  # 저장된 모델 불러오기\n",
    "print(\"Model loaded from actor_critic_cartpole.pth\")\n",
    "\n",
    "s, _ = env.reset()\n",
    "done = False\n",
    "total_reward = 0\n",
    "\n",
    "while not done:\n",
    "    prob = model.pi(torch.from_numpy(s).float())\n",
    "    a = torch.argmax(prob).item()  # 가장 높은 확률의 행동 선택\n",
    "    s, r, done, truncated, info = env.step(a)\n",
    "    total_reward += r\n",
    "\n",
    "    if done or truncated:\n",
    "        break\n",
    "\n",
    "print(f\"Total reward achieved: {total_reward}\")\n",
    "env.close()\n"
   ]
  },
  {
   "cell_type": "code",
   "execution_count": 50,
   "metadata": {},
   "outputs": [
    {
     "name": "stderr",
     "output_type": "stream",
     "text": [
      "C:\\Users\\NHJ\\AppData\\Local\\Temp\\ipykernel_18848\\740531106.py:4: FutureWarning: You are using `torch.load` with `weights_only=False` (the current default value), which uses the default pickle module implicitly. It is possible to construct malicious pickle data which will execute arbitrary code during unpickling (See https://github.com/pytorch/pytorch/blob/main/SECURITY.md#untrusted-models for more details). In a future release, the default value for `weights_only` will be flipped to `True`. This limits the functions that could be executed during unpickling. Arbitrary objects will no longer be allowed to be loaded via this mode unless they are explicitly allowlisted by the user via `torch.serialization.add_safe_globals`. We recommend you start setting `weights_only=True` for any use case where you don't have full control of the loaded file. Please open an issue on GitHub for any issues related to this experimental feature.\n",
      "  model.load_state_dict(torch.load(\"./cartpole_pth/actor_cartpole.pth\"))  # 저장된 모델 불러오기\n"
     ]
    },
    {
     "name": "stdout",
     "output_type": "stream",
     "text": [
      "Model loaded from actor_critic_cartpole.pth\n",
      "Total reward achieved: 1000.0\n",
      "Video saved as ./videos\\actor_cartpole.avi\n"
     ]
    }
   ],
   "source": [
    "env = gym.make('CartPole-v1', max_episode_steps=1000, render_mode='rgb_array')\n",
    "\n",
    "model = ActorCritic()\n",
    "model.load_state_dict(torch.load(\"./cartpole_pth/actor_cartpole.pth\"))  # 저장된 모델 불러오기\n",
    "print(\"Model loaded from actor_critic_cartpole.pth\")\n",
    "\n",
    "s, _ = env.reset(seed=32)\n",
    "done = False\n",
    "total_reward = 0\n",
    "\n",
    "output_folder = \"./videos\"  # 저장할 폴더 경로\n",
    "os.makedirs(output_folder, exist_ok=True)  # 폴더가 없으면 생성\n",
    "video_filename = os.path.join(output_folder, \"actor_cartpole.avi\")  # 파일 경로 설정\n",
    "\n",
    "frame_width, frame_height = env.render().shape[1], env.render().shape[0]\n",
    "fourcc = cv2.VideoWriter_fourcc(*'XVID')  # 코덱 설정 (XVID, MP4V 등)\n",
    "fps = 30  # 초당 프레임 수\n",
    "video_writer = cv2.VideoWriter(video_filename, fourcc, fps, (frame_width, frame_height))\n",
    "\n",
    "# 에피소드 실행\n",
    "while not done:\n",
    "    prob = ppo.pi(torch.from_numpy(s).float())\n",
    "    a = torch.argmax(prob).item()  # 가장 높은 확률의 행동 선택\n",
    "    s, r, done, truncated, info = env.step(a)\n",
    "    total_reward += r\n",
    "\n",
    "    # 현재 프레임을 저장\n",
    "    frame = env.render()\n",
    "    video_frame = cv2.cvtColor(frame, cv2.COLOR_RGB2BGR)  # OpenCV는 BGR 포맷 사용\n",
    "    video_writer.write(video_frame)\n",
    "\n",
    "    if done or truncated:\n",
    "        break\n",
    "\n",
    "# 리소스 정리\n",
    "env.close()\n",
    "video_writer.release()\n",
    "print(\"Total reward achieved: {:.1f}\".format(total_reward))\n",
    "print(f\"Video saved as {video_filename}\")"
   ]
  }
 ],
 "metadata": {
  "colab": {
   "authorship_tag": "ABX9TyNGMm5yZsH1MPyCt6PUmGDK",
   "mount_file_id": "1yq1a3BYZLI6d7hQ4LyCZw4txBzIhzjom",
   "provenance": []
  },
  "kernelspec": {
   "display_name": "gym",
   "language": "python",
   "name": "gym"
  },
  "language_info": {
   "codemirror_mode": {
    "name": "ipython",
    "version": 3
   },
   "file_extension": ".py",
   "mimetype": "text/x-python",
   "name": "python",
   "nbconvert_exporter": "python",
   "pygments_lexer": "ipython3",
   "version": "3.10.15"
  }
 },
 "nbformat": 4,
 "nbformat_minor": 1
}
